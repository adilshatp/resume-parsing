{
 "cells": [
  {
   "cell_type": "raw",
   "id": "88a5d348",
   "metadata": {},
   "source": [
    "pip install python_docx\n",
    "pip install docx\n",
    "pip install pyresparser"
   ]
  },
  {
   "cell_type": "code",
   "execution_count": 1,
   "id": "b1fae3dd",
   "metadata": {},
   "outputs": [],
   "source": [
    "import pandas as pd\n",
    "import docx2txt\n",
    "import textract\n",
    "import os\n",
    "import warnings\n",
    "warnings.filterwarnings('ignore')"
   ]
  },
  {
   "cell_type": "code",
   "execution_count": 2,
   "id": "92c97644",
   "metadata": {},
   "outputs": [],
   "source": [
    " import resume_parser"
   ]
  },
  {
   "cell_type": "code",
   "execution_count": 3,
   "id": "68cc007e",
   "metadata": {},
   "outputs": [],
   "source": [
    "from pyresparser import ResumeParser\n",
    "import os\n",
    "from docx import Document\n",
    "from resume_parser import resumeparse"
   ]
  },
  {
   "cell_type": "code",
   "execution_count": 4,
   "id": "6f0549ae",
   "metadata": {},
   "outputs": [
    {
     "name": "stderr",
     "output_type": "stream",
     "text": [
      "2022-07-01 11:07:49,411 [MainThread  ] [ERROR]  Unable to run java; is it installed?\n",
      "2022-07-01 11:07:49,425 [MainThread  ] [ERROR]  Failed to receive startup confirmation from startServer.\n",
      "ERROR:root:Error in tika installation:: Unable to start Tika server.\n",
      "ERROR:root:--------------------------\n",
      "ERROR:root:Install java for better result \n"
     ]
    }
   ],
   "source": [
    "data = resumeparse.read_file(r'C:\\Users\\ACER\\Downloads\\Resume MANAS RANJAN PRUSTI (1).docx')"
   ]
  },
  {
   "cell_type": "code",
   "execution_count": 5,
   "id": "8730744a",
   "metadata": {},
   "outputs": [
    {
     "data": {
      "text/plain": [
       "{'email': 'manasranjanprusti005@gmail.c',\n",
       " 'phone': '+919668488022',\n",
       " 'name': 'MANAS RANJAN',\n",
       " 'total_exp': 2,\n",
       " 'university': ['university of technology'],\n",
       " 'designition': ['data scientist',\n",
       "  'scientist',\n",
       "  'business development',\n",
       "  'business development associate',\n",
       "  'development associate',\n",
       "  'associate',\n",
       "  'costumer'],\n",
       " 'degree': [],\n",
       " 'skills': ['Machine Learning',\n",
       "  ' Deep Learning Computer Vision',\n",
       "  ' NLP',\n",
       "  ' AWS',\n",
       "  'Big Data',\n",
       "  ' Hadoop',\n",
       "  'Python',\n",
       "  ' SQL',\n",
       "  ' Excel ',\n",
       "  ' Tableau',\n",
       "  ' Power BI',\n",
       "  'Scikit',\n",
       "  ' Tensor Flow',\n",
       "  ' Keras Seaborn',\n",
       "  ' Matplotlib',\n",
       "  ' CNN',\n",
       "  ' RNN',\n",
       "  'Hobbies',\n",
       "  'Coding Cricket Reading',\n",
       "  'Learning New ',\n",
       "  'PERSONAL PROFILE',\n",
       "  'Result oriented individual having statistical and analytical ability with 8 months of industry experience in Data science with data processing',\n",
       "  ' data visualization',\n",
       "  ' model building',\n",
       "  ' training and testing using Machine Learning',\n",
       "  ' Deep learning and NLP techniques to meet business needs. Motivated to learn',\n",
       "  ' grow and excel my experience with challenging myself.'],\n",
       " 'Companies worked at': []}"
      ]
     },
     "execution_count": 5,
     "metadata": {},
     "output_type": "execute_result"
    }
   ],
   "source": [
    "data"
   ]
  },
  {
   "cell_type": "code",
   "execution_count": 6,
   "id": "132c35fd",
   "metadata": {},
   "outputs": [],
   "source": [
    "new = pd.DataFrame.from_dict(data,orient='index')"
   ]
  },
  {
   "cell_type": "code",
   "execution_count": 7,
   "id": "1a78be92",
   "metadata": {},
   "outputs": [
    {
     "data": {
      "text/html": [
       "<div>\n",
       "<style scoped>\n",
       "    .dataframe tbody tr th:only-of-type {\n",
       "        vertical-align: middle;\n",
       "    }\n",
       "\n",
       "    .dataframe tbody tr th {\n",
       "        vertical-align: top;\n",
       "    }\n",
       "\n",
       "    .dataframe thead th {\n",
       "        text-align: right;\n",
       "    }\n",
       "</style>\n",
       "<table border=\"1\" class=\"dataframe\">\n",
       "  <thead>\n",
       "    <tr style=\"text-align: right;\">\n",
       "      <th></th>\n",
       "      <th>0</th>\n",
       "    </tr>\n",
       "  </thead>\n",
       "  <tbody>\n",
       "    <tr>\n",
       "      <th>email</th>\n",
       "      <td>manasranjanprusti005@gmail.c</td>\n",
       "    </tr>\n",
       "    <tr>\n",
       "      <th>phone</th>\n",
       "      <td>+919668488022</td>\n",
       "    </tr>\n",
       "    <tr>\n",
       "      <th>name</th>\n",
       "      <td>MANAS RANJAN</td>\n",
       "    </tr>\n",
       "    <tr>\n",
       "      <th>total_exp</th>\n",
       "      <td>2</td>\n",
       "    </tr>\n",
       "    <tr>\n",
       "      <th>university</th>\n",
       "      <td>[university of technology]</td>\n",
       "    </tr>\n",
       "    <tr>\n",
       "      <th>designition</th>\n",
       "      <td>[data scientist, scientist, business developme...</td>\n",
       "    </tr>\n",
       "    <tr>\n",
       "      <th>degree</th>\n",
       "      <td>[]</td>\n",
       "    </tr>\n",
       "    <tr>\n",
       "      <th>skills</th>\n",
       "      <td>[Machine Learning,  Deep Learning Computer Vis...</td>\n",
       "    </tr>\n",
       "    <tr>\n",
       "      <th>Companies worked at</th>\n",
       "      <td>[]</td>\n",
       "    </tr>\n",
       "  </tbody>\n",
       "</table>\n",
       "</div>"
      ],
      "text/plain": [
       "                                                                     0\n",
       "email                                     manasranjanprusti005@gmail.c\n",
       "phone                                                    +919668488022\n",
       "name                                                      MANAS RANJAN\n",
       "total_exp                                                            2\n",
       "university                                  [university of technology]\n",
       "designition          [data scientist, scientist, business developme...\n",
       "degree                                                              []\n",
       "skills               [Machine Learning,  Deep Learning Computer Vis...\n",
       "Companies worked at                                                 []"
      ]
     },
     "execution_count": 7,
     "metadata": {},
     "output_type": "execute_result"
    }
   ],
   "source": [
    "new"
   ]
  },
  {
   "cell_type": "code",
   "execution_count": null,
   "id": "34cd286e",
   "metadata": {},
   "outputs": [],
   "source": []
  }
 ],
 "metadata": {
  "kernelspec": {
   "display_name": "Python 3 (ipykernel)",
   "language": "python",
   "name": "python3"
  },
  "language_info": {
   "codemirror_mode": {
    "name": "ipython",
    "version": 3
   },
   "file_extension": ".py",
   "mimetype": "text/x-python",
   "name": "python",
   "nbconvert_exporter": "python",
   "pygments_lexer": "ipython3",
   "version": "3.9.7"
  }
 },
 "nbformat": 4,
 "nbformat_minor": 5
}
