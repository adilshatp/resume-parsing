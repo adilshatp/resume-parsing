{
 "cells": [
  {
   "cell_type": "code",
   "execution_count": 1,
   "id": "3a39dba6",
   "metadata": {},
   "outputs": [],
   "source": [
    "import spacy\n",
    "import pickle\n",
    "import random"
   ]
  },
  {
   "cell_type": "code",
   "execution_count": 2,
   "id": "d9919848",
   "metadata": {},
   "outputs": [],
   "source": [
    "import nltk"
   ]
  },
  {
   "cell_type": "code",
   "execution_count": 3,
   "id": "3e1b75fd",
   "metadata": {},
   "outputs": [
    {
     "data": {
      "text/plain": [
       "('Govardhana K Senior Software Engineer  Bengaluru, Karnataka, Karnataka - Email me on Indeed: indeed.com/r/Govardhana-K/ b2de315d95905b68  Total IT experience 5 Years 6 Months Cloud Lending Solutions INC 4 Month • Salesforce Developer Oracle 5 Years 2 Month • Core Java Developer Languages Core Java, Go Lang Oracle PL-SQL programming, Sales Force Developer with APEX.  Designations & Promotions  Willing to relocate: Anywhere  WORK EXPERIENCE  Senior Software Engineer  Cloud Lending Solutions -  Bangalore, Karnataka -  January 2018 to Present  Present  Senior Consultant  Oracle -  Bangalore, Karnataka -  November 2016 to December 2017  Staff Consultant  Oracle -  Bangalore, Karnataka -  January 2014 to October 2016  Associate Consultant  Oracle -  Bangalore, Karnataka -  November 2012 to December 2013  EDUCATION  B.E in Computer Science Engineering  Adithya Institute of Technology -  Tamil Nadu  September 2008 to June 2012  https://www.indeed.com/r/Govardhana-K/b2de315d95905b68?isid=rex-download&ikw=download-top&co=IN https://www.indeed.com/r/Govardhana-K/b2de315d95905b68?isid=rex-download&ikw=download-top&co=IN   SKILLS  APEX. (Less than 1 year), Data Structures (3 years), FLEXCUBE (5 years), Oracle (5 years), Algorithms (3 years)  LINKS  https://www.linkedin.com/in/govardhana-k-61024944/  ADDITIONAL INFORMATION  Technical Proficiency:  Languages: Core Java, Go Lang, Data Structures & Algorithms, Oracle PL-SQL programming, Sales Force with APEX. Tools: RADTool, Jdeveloper, NetBeans, Eclipse, SQL developer, PL/SQL Developer, WinSCP, Putty Web Technologies: JavaScript, XML, HTML, Webservice  Operating Systems: Linux, Windows Version control system SVN & Git-Hub Databases: Oracle Middleware: Web logic, OC4J Product FLEXCUBE: Oracle FLEXCUBE Versions 10.x, 11.x and 12.x  https://www.linkedin.com/in/govardhana-k-61024944/',\n",
       " {'entities': [(1749, 1755, 'Companies worked at'),\n",
       "   (1696, 1702, 'Companies worked at'),\n",
       "   (1417, 1423, 'Companies worked at'),\n",
       "   (1356, 1793, 'Skills'),\n",
       "   (1209, 1215, 'Companies worked at'),\n",
       "   (1136, 1248, 'Skills'),\n",
       "   (928, 932, 'Graduation Year'),\n",
       "   (858, 889, 'College Name'),\n",
       "   (821, 856, 'Degree'),\n",
       "   (787, 791, 'Graduation Year'),\n",
       "   (744, 750, 'Companies worked at'),\n",
       "   (722, 742, 'Designation'),\n",
       "   (658, 664, 'Companies worked at'),\n",
       "   (640, 656, 'Designation'),\n",
       "   (574, 580, 'Companies worked at'),\n",
       "   (555, 573, 'Designation'),\n",
       "   (470, 493, 'Companies worked at'),\n",
       "   (444, 469, 'Designation'),\n",
       "   (308, 314, 'Companies worked at'),\n",
       "   (234, 240, 'Companies worked at'),\n",
       "   (175, 198, 'Companies worked at'),\n",
       "   (93, 137, 'Email Address'),\n",
       "   (39, 48, 'Location'),\n",
       "   (13, 38, 'Designation'),\n",
       "   (0, 12, 'Name')]})"
      ]
     },
     "execution_count": 3,
     "metadata": {},
     "output_type": "execute_result"
    }
   ],
   "source": [
    "train_data = pickle.load(open('train_data.pkl','rb'))\n",
    "train_data[0]"
   ]
  },
  {
   "cell_type": "code",
   "execution_count": 49,
   "id": "4f843265",
   "metadata": {},
   "outputs": [],
   "source": [
    "nlp = spacy.blank('en')\n",
    "\n",
    "def train_model(train_data):\n",
    "    if 'ner' not in nlp.pipe_names:\n",
    "        ner = nlp.create_pipe('ner')\n",
    "        nlp.add_pipe(ner,last = True)\n",
    "        \n",
    "    for _, annotation in train_data:\n",
    "        for ent in annotation['entities']:\n",
    "            ner.add_label(ent[2])\n",
    "            \n",
    "    \n",
    "    other_pipes = [pipe for pipe in nlp.pipe_names if pipe !='ner']\n",
    "    with nlp.disable_pipes(*other_pipes):\n",
    "        optimizer = nlp.begin_training()\n",
    "        for itn in range(10):\n",
    "            print(\"startring iteration \" + str(itn))\n",
    "            random.shuffle(train_data)\n",
    "            losses = {}\n",
    "            index = 0\n",
    "            for text, annotations in train_data:\n",
    "                \n",
    "                try:\n",
    "                    nlp.update(\n",
    "                    [text],\n",
    "                    [annotations],\n",
    "                    drop=0.2,\n",
    "                    sgd=optimizer,\n",
    "                    losses=losses)\n",
    "                except Exception as e:\n",
    "                    pass\n",
    "            print(losses)\n",
    "    \n",
    "    "
   ]
  },
  {
   "cell_type": "code",
   "execution_count": 50,
   "id": "69865cd2",
   "metadata": {},
   "outputs": [
    {
     "name": "stdout",
     "output_type": "stream",
     "text": [
      "startring iteration 0\n",
      "{'ner': 14301.718763106994}\n",
      "startring iteration 1\n",
      "{'ner': 8861.423785535027}\n",
      "startring iteration 2\n",
      "{'ner': 6947.14356632371}\n",
      "startring iteration 3\n",
      "{'ner': 5954.117583552817}\n",
      "startring iteration 4\n",
      "{'ner': 5706.273780121474}\n",
      "startring iteration 5\n",
      "{'ner': 6675.883148175253}\n",
      "startring iteration 6\n",
      "{'ner': 7390.573110479609}\n",
      "startring iteration 7\n",
      "{'ner': 4564.891953791831}\n",
      "startring iteration 8\n",
      "{'ner': 5446.295314451455}\n",
      "startring iteration 9\n",
      "{'ner': 4613.3556264890585}\n"
     ]
    }
   ],
   "source": [
    "train_model(train_data)"
   ]
  },
  {
   "cell_type": "code",
   "execution_count": 51,
   "id": "4e0716a6",
   "metadata": {},
   "outputs": [],
   "source": [
    "nlp.to_disk('nlp_resume_model')"
   ]
  },
  {
   "cell_type": "code",
   "execution_count": null,
   "id": "a8805417",
   "metadata": {},
   "outputs": [],
   "source": []
  },
  {
   "cell_type": "code",
   "execution_count": 52,
   "id": "ff5a2f27",
   "metadata": {},
   "outputs": [],
   "source": [
    "nlp_resume_model = spacy.load('nlp_resume_model')"
   ]
  },
  {
   "cell_type": "code",
   "execution_count": 65,
   "id": "3209794f",
   "metadata": {},
   "outputs": [
    {
     "name": "stdout",
     "output_type": "stream",
     "text": [
      "NAME                           -  Venkateswara D\n",
      "DESIGNATION                    -  specialist - Technology Process\n",
      "EMAIL ADDRESS                  -  indeed.com/r/Venkateswara-D/18b373e3b03b371f\n",
      "DESIGNATION                    -  specialist\n",
      "COMPANIES WORKED AT            -  Technology Process\n",
      "COMPANIES WORKED AT            -  Infosys Limited\n",
      "LOCATION                       -  Hyderabad\n",
      "DEGREE                         -  Certificate in MSC CHEMISTRY\n",
      "COLLEGE NAME                   -  Acharya Nagarjuna University\n",
      "DEGREE                         -  MBA\n",
      "COLLEGE NAME                   -  Acharya Nagarjuna University\n",
      "LOCATION                       -  Pune\n"
     ]
    }
   ],
   "source": [
    "doc = nlp_resume_model(train_data[0][0])\n",
    "for ent in doc.ents:\n",
    "    print(f'{ent.label_.upper():{30}} -  {ent.text}')"
   ]
  },
  {
   "cell_type": "code",
   "execution_count": 67,
   "id": "7811cc42",
   "metadata": {},
   "outputs": [
    {
     "name": "stdout",
     "output_type": "stream",
     "text": [
      "NAME                           -  Pankaj Bhosale\n",
      "DESIGNATION                    -  Microsoft SQL-SERVER\n",
      "LOCATION                       -  Dhule\n",
      "EMAIL ADDRESS                  -  indeed.com/r/Pankaj-Bhosale/2d6f2e970b9a7ff6\n",
      "DESIGNATION                    -  Microsoft SQL-SERVER\n",
      "DESIGNATION                    -  Jr. Developer\n",
      "COMPANIES WORKED AT            -  Softzel Technologies\n",
      "DEGREE                         -  MCA\n",
      "COLLEGE NAME                   -  RCPET's I.M.R.D College\n",
      "GRADUATION YEAR                -  2014\n",
      "DEGREE                         -  M.D.\n",
      "COLLEGE NAME                   -  Palesh Commerce College\n",
      "LOCATION                       -  Dhule\n",
      "LOCATION                       -  Dhule\n"
     ]
    }
   ],
   "source": [
    "doc = nlp_resume_model(train_data[1][0])\n",
    "for ent in doc.ents:\n",
    "    print(f'{ent.label_.upper():{30}} -  {ent.text}')"
   ]
  },
  {
   "cell_type": "code",
   "execution_count": 68,
   "id": "0dc70630",
   "metadata": {},
   "outputs": [
    {
     "name": "stdout",
     "output_type": "stream",
     "text": [
      "NAME                           -  Nidhi Pandit\n",
      "DESIGNATION                    -  Test Engineer\n",
      "COMPANIES WORKED AT            -  Infosys Limited\n",
      "EMAIL ADDRESS                  -  indeed.com/r/Nidhi-Pandit/b4b383dbe14789c5\n",
      "COMPANIES WORKED AT            -  Infosys Limited\n",
      "DESIGNATION                    -  Test Engineer\n",
      "COMPANIES WORKED AT            -  Infosys Limited\n",
      "COMPANIES WORKED AT            -  Infosys Limited\n",
      "DESIGNATION                    -  Test Engineer\n",
      "COMPANIES WORKED AT            -  Infosys Limited\n",
      "DEGREE                         -  State Board\n",
      "DEGREE                         -  Passing\n",
      "DEGREE                         -  Bachelor in Electronics\n",
      "COLLEGE NAME                   -  Central India Institute\n",
      "GRADUATION YEAR                -  Engineering\n",
      "COLLEGE NAME                   -  Technical University\n",
      "SKILLS                         -  API. (1 year), Scripting. (1 year), SOAP (1 year), UI (1 year), XML (3 years)\n",
      "SKILLS                         -  Technical Experience: - Automation Testing (REST API, Service Virtualization), Functional Testing, Regression Testing Manual Testing, Scripting (SQL) Domain Experience: - Telecom, Banking Programming & Scripting Languages: - HTML, CSS, XML, SQL, JAVA (Basic), JSON SDLC Model: -Waterfall, Agile Testing Tools: - CA LISA, APM (Amdocs Process Manager), SOAP UI, TOSCA, HP-ALM (QC) Test Management Tools: -JIRA, Quality Center Other Tools: -SQL Developer, TOAD. Database: - DB2, SQL\n"
     ]
    }
   ],
   "source": [
    "doc = nlp_resume_model(train_data[2][0])\n",
    "for ent in doc.ents:\n",
    "    print(f'{ent.label_.upper():{30}} -  {ent.text}')"
   ]
  },
  {
   "cell_type": "code",
   "execution_count": 69,
   "id": "9b1461a2",
   "metadata": {},
   "outputs": [
    {
     "name": "stdout",
     "output_type": "stream",
     "text": [
      "NAME                           -  Tanmoy Maity\n",
      "LOCATION                       -  Kolkata\n",
      "EMAIL ADDRESS                  -  indeed.com/r/Tanmoy-Maity/145eb1ed39df317c\n",
      "DESIGNATION                    -  HVAC Technician\n",
      "COMPANIES WORKED AT            -  Infosys and microsoft\n",
      "DESIGNATION                    -  HVAC Technician\n",
      "COMPANIES WORKED AT            -  Infosys and microsoft\n",
      "DEGREE                         -  Diploma in Mrac\n",
      "COLLEGE NAME                   -  Gtti -\n",
      "LOCATION                       -  Kolkata\n",
      "SKILLS                         -  Hvac tech (3 years)\n"
     ]
    }
   ],
   "source": [
    "doc = nlp_resume_model(train_data[4][0])\n",
    "for ent in doc.ents:\n",
    "    print(f'{ent.label_.upper():{30}} -  {ent.text}')"
   ]
  },
  {
   "cell_type": "code",
   "execution_count": 72,
   "id": "43e0374b",
   "metadata": {
    "scrolled": true
   },
   "outputs": [
    {
     "data": {
      "text/plain": [
       "\"Venkateswara D specialist - Technology Process  IN - Email me on Indeed: indeed.com/r/Venkateswara-D/18b373e3b03b371f  A technocrat with over 10 years of rich experience across various fields like Customer Services, End user support, Technical Support, Risk Management, BMC Remedy Support (Basics) and Service Delivery Management.  WORK EXPERIENCE  specialist  Technology Process -  2008 to Present  Production Support Analyst (Microsoft  Infosys Limited -  Hyderabad, Telangana -  April 2004 to September 2007  Worked As chemist for Quality control Heterolabs Private Limited, Hyderabad from April2004 to September 2007.  PROJECTS Project Details (#1): Microsoft Finance Solution Delivery Tier 1 Client: Microsoft, India Role: Production Support Analyst (Microsoft India) Organization: Infosys Limited, India Description: MSFNSDT1 (Microsoft Finance Solution Delivery Tier 1) support is a group which gives the frontend support for Microsoft applications used by their FTEs (Full-Time Employees) . These employees are generally the higher officials of Microsoft who use various tools to generate their reports on Quarterly basis.This Support team is having 47 applications and divided in to 4 clusters i.e. Planning, Finance, MS Sales and Headcount.We, the Tier 1 team are the first point of contact for MS employees who use these tools. Our work is to do the troubleshooting and revert back to them with emails and through calls.  ROLES and Responsibilities Gatekeeper and Support Analyst ❖ Resolving user's issues and reverting back to them with emails and through calls related to 12 applications comes under Planning and Finance clusters ( WW Services, Calypso, and Latam) ❖ Preparation of documents (FAQs, Articles) ❖ Closed Service Request analysis, finding common issues and document them with suggestions. ❖ Training new resource, monitor and review their work on daily basis. ❖ Supporting other clusters as SA, during their pick times. ❖ Developed complex SQL and PL/SQL scripts as part of development.  Project Details (#2): Project 3- VLIT (Microsoft's Volume Licensing)  https://www.indeed.com/r/Venkateswara-D/18b373e3b03b371f?isid=rex-download&ikw=download-top&co=IN   Client: Microsoft Team Size: 24 Tool: Visual Studio 2010 Ultimate, Technologies: C#, Glider framework, SAP GUI (MSU), SQL Server Operating System: Windows 7, Role: Test Engineer  Description: Microsoft's VL programs allow customers to purchase and upgrade software licenses at substantial discounts, provide more flexible payment options, ease license management and software deployment, and are the only way to purchase many Microsoft products. The Laminar Alpha (ECX 1.0/1.1&1.15) release to enable the E2E processes required to launch the VLA in market (i.e. book revenue) and to support (through a combination of automated, semi- automated, and manual processes) the essential elements of the Volume Licensing experience required to sustain a production business launch.  The Licensing Operations Centre (LOC) will be a single portal for users in the Regional Operation Centers (User Management- Create and Manage users) to perform tasks that facilitate Volume Licensing (VL) transactions and support. Individuals in the ROCs perform a variety of activities within the end to end VL ecosystem, from Pre-Sales support to Quote-to-Cash transactional operations, and subsequently Post-Sales support of Partners, Customers and Internal Microsoft stakeholders.  Responsibilities ❖ Understanding and analyzing Business Requirement Document (BRD), Functional Specification Document (FSD) ❖ Involved in creation of Test Scenarios and Test cases for the User. ❖ Involved in Creation of unit test cases. ❖ Executing the test cases both manual and automated. ❖ Involved in Data Base testing using SQL queries. ❖ Reporting bugs using VSTF. ❖ Involved in functional testing of the VLIT Laminar Web Application. ❖ Involved in creation of Accounts (Legal, Customer and Partner) and Contacts from SAP GUI for functional testing  Project Details (#3):  Microsoft Order Management Client: Microsoft, India Role: Production Support Analyst (Microsoft India, Hyderabad) Organization: Infosys Limited, India Team Size: 10  Details of project:-  Working as Line 2 Support Analyst for BGOS group of Microsoft Corporation, and providing 24*7 Production support in SQL Server 2008 for LPO division of Microsoft which provides support for operational deployment and support for a variety of internal corporate tools and external facing localization tools throughout Microsoft. LPO (Licensing and pricing operations) support teams    in India, Redmond, Dublin and East Asia, The objective of this project is to support Incident, change the release management in the production system and mission critical Microsoft internal application.  Order management: - Order management is a platform which is built on .Net technology and is used as main application for order processing of various products manufactured and sold by Microsoft which includes all operating systems, Microsoft Office, XBOX etc. In this application the orders are placed on the websites which flow through various channels of security and validation. These sub channels are also supported by us. We support this Order management application in 3 different environments, production, UAT (testing Environment) and POB (Production on boarding) . We are the actual owners or all the 3 environments.  Production Support Analyst: Microsoft Order Management Platform/Application  Roles and Responsibilities ❖ Provide 24 * 7 production support for Microsoft Order management • Updating the patches released. ❖ DB administration which includes taking database backup, restoring, health checking. ❖ Taking appropriate actions according to the alert from SQL servers and web servers. ❖ Checking any connectivity issues. If so, escalating the case to respective teams. ❖ Taking care of the Reporting Services issues. ❖ Updating monthly Taxware Data to all production/UAT/POB servers • Taking care of production databases and various jobs. ❖ Smoke test of the jobs ❖ Running the various database updates given by the SE team in all the 3 environments. ❖ Resolving web application issues. ❖ Coordinating with business team and implementing there requirements on database. ❖ Handling the stores and installing new DLL's and web application files like HTML, XML etc at given locations in all 3 environments. ❖ Updating passwords when there is a password expiry. ❖ Giving real time support to customers, when they face any OM application related issues.. ❖ DBA tasks for more than 30 databases ❖ Monitoring and administration of user access to web application. ❖ Administrative tasks like permissions; logins for various tools are websites too. ❖ Monitoring Database Growth. ❖ Creating Reports using SQL Scripts (Querying the database)  Activities involves the below ITIL process  ❖ Incident Management:- Working on the level 2 incidents to make sure that the response times to the users is minimized. Analyse, troubleshoot and provide the work around/resolution to the incidents and resolve the issue within given SLA (Service Level Agreement)  ❖ Change Management: - Working on the RFC's raised by the user. Following up with the user in all the 11 stages with all the approvals of RFC's. Then, testing the change in Dev and acceptance. Finally implementing the change in production.  ❖ Problem Management: - Identifying the frequently failing problem with the prod jobs and reporting and handling the issue as part error handling and correction task.    Computer Proficiency Platforms: Win 9x, NT, XP, Vista (x64 & x86), Linux. Languages: SQL, PL/SQL, Unix, SAP Systems; PMO; IBM Filenet Applications: MS-Office Database: MS-Access, working knowledge of SQL Server.  EDUCATION  Certificate in MSC CHEMISTRY  Acharya Nagarjuna University  MBA  Acharya Nagarjuna University -  Pune, Maharashtra  Secondary School of Education\""
      ]
     },
     "execution_count": 72,
     "metadata": {},
     "output_type": "execute_result"
    }
   ],
   "source": [
    "train_data[0][0]"
   ]
  },
  {
   "cell_type": "code",
   "execution_count": 73,
   "id": "c164b2ca",
   "metadata": {},
   "outputs": [
    {
     "data": {
      "text/plain": [
       "(\"Venkateswara D specialist - Technology Process  IN - Email me on Indeed: indeed.com/r/Venkateswara-D/18b373e3b03b371f  A technocrat with over 10 years of rich experience across various fields like Customer Services, End user support, Technical Support, Risk Management, BMC Remedy Support (Basics) and Service Delivery Management.  WORK EXPERIENCE  specialist  Technology Process -  2008 to Present  Production Support Analyst (Microsoft  Infosys Limited -  Hyderabad, Telangana -  April 2004 to September 2007  Worked As chemist for Quality control Heterolabs Private Limited, Hyderabad from April2004 to September 2007.  PROJECTS Project Details (#1): Microsoft Finance Solution Delivery Tier 1 Client: Microsoft, India Role: Production Support Analyst (Microsoft India) Organization: Infosys Limited, India Description: MSFNSDT1 (Microsoft Finance Solution Delivery Tier 1) support is a group which gives the frontend support for Microsoft applications used by their FTEs (Full-Time Employees) . These employees are generally the higher officials of Microsoft who use various tools to generate their reports on Quarterly basis.This Support team is having 47 applications and divided in to 4 clusters i.e. Planning, Finance, MS Sales and Headcount.We, the Tier 1 team are the first point of contact for MS employees who use these tools. Our work is to do the troubleshooting and revert back to them with emails and through calls.  ROLES and Responsibilities Gatekeeper and Support Analyst ❖ Resolving user's issues and reverting back to them with emails and through calls related to 12 applications comes under Planning and Finance clusters ( WW Services, Calypso, and Latam) ❖ Preparation of documents (FAQs, Articles) ❖ Closed Service Request analysis, finding common issues and document them with suggestions. ❖ Training new resource, monitor and review their work on daily basis. ❖ Supporting other clusters as SA, during their pick times. ❖ Developed complex SQL and PL/SQL scripts as part of development.  Project Details (#2): Project 3- VLIT (Microsoft's Volume Licensing)  https://www.indeed.com/r/Venkateswara-D/18b373e3b03b371f?isid=rex-download&ikw=download-top&co=IN   Client: Microsoft Team Size: 24 Tool: Visual Studio 2010 Ultimate, Technologies: C#, Glider framework, SAP GUI (MSU), SQL Server Operating System: Windows 7, Role: Test Engineer  Description: Microsoft's VL programs allow customers to purchase and upgrade software licenses at substantial discounts, provide more flexible payment options, ease license management and software deployment, and are the only way to purchase many Microsoft products. The Laminar Alpha (ECX 1.0/1.1&1.15) release to enable the E2E processes required to launch the VLA in market (i.e. book revenue) and to support (through a combination of automated, semi- automated, and manual processes) the essential elements of the Volume Licensing experience required to sustain a production business launch.  The Licensing Operations Centre (LOC) will be a single portal for users in the Regional Operation Centers (User Management- Create and Manage users) to perform tasks that facilitate Volume Licensing (VL) transactions and support. Individuals in the ROCs perform a variety of activities within the end to end VL ecosystem, from Pre-Sales support to Quote-to-Cash transactional operations, and subsequently Post-Sales support of Partners, Customers and Internal Microsoft stakeholders.  Responsibilities ❖ Understanding and analyzing Business Requirement Document (BRD), Functional Specification Document (FSD) ❖ Involved in creation of Test Scenarios and Test cases for the User. ❖ Involved in Creation of unit test cases. ❖ Executing the test cases both manual and automated. ❖ Involved in Data Base testing using SQL queries. ❖ Reporting bugs using VSTF. ❖ Involved in functional testing of the VLIT Laminar Web Application. ❖ Involved in creation of Accounts (Legal, Customer and Partner) and Contacts from SAP GUI for functional testing  Project Details (#3):  Microsoft Order Management Client: Microsoft, India Role: Production Support Analyst (Microsoft India, Hyderabad) Organization: Infosys Limited, India Team Size: 10  Details of project:-  Working as Line 2 Support Analyst for BGOS group of Microsoft Corporation, and providing 24*7 Production support in SQL Server 2008 for LPO division of Microsoft which provides support for operational deployment and support for a variety of internal corporate tools and external facing localization tools throughout Microsoft. LPO (Licensing and pricing operations) support teams    in India, Redmond, Dublin and East Asia, The objective of this project is to support Incident, change the release management in the production system and mission critical Microsoft internal application.  Order management: - Order management is a platform which is built on .Net technology and is used as main application for order processing of various products manufactured and sold by Microsoft which includes all operating systems, Microsoft Office, XBOX etc. In this application the orders are placed on the websites which flow through various channels of security and validation. These sub channels are also supported by us. We support this Order management application in 3 different environments, production, UAT (testing Environment) and POB (Production on boarding) . We are the actual owners or all the 3 environments.  Production Support Analyst: Microsoft Order Management Platform/Application  Roles and Responsibilities ❖ Provide 24 * 7 production support for Microsoft Order management • Updating the patches released. ❖ DB administration which includes taking database backup, restoring, health checking. ❖ Taking appropriate actions according to the alert from SQL servers and web servers. ❖ Checking any connectivity issues. If so, escalating the case to respective teams. ❖ Taking care of the Reporting Services issues. ❖ Updating monthly Taxware Data to all production/UAT/POB servers • Taking care of production databases and various jobs. ❖ Smoke test of the jobs ❖ Running the various database updates given by the SE team in all the 3 environments. ❖ Resolving web application issues. ❖ Coordinating with business team and implementing there requirements on database. ❖ Handling the stores and installing new DLL's and web application files like HTML, XML etc at given locations in all 3 environments. ❖ Updating passwords when there is a password expiry. ❖ Giving real time support to customers, when they face any OM application related issues.. ❖ DBA tasks for more than 30 databases ❖ Monitoring and administration of user access to web application. ❖ Administrative tasks like permissions; logins for various tools are websites too. ❖ Monitoring Database Growth. ❖ Creating Reports using SQL Scripts (Querying the database)  Activities involves the below ITIL process  ❖ Incident Management:- Working on the level 2 incidents to make sure that the response times to the users is minimized. Analyse, troubleshoot and provide the work around/resolution to the incidents and resolve the issue within given SLA (Service Level Agreement)  ❖ Change Management: - Working on the RFC's raised by the user. Following up with the user in all the 11 stages with all the approvals of RFC's. Then, testing the change in Dev and acceptance. Finally implementing the change in production.  ❖ Problem Management: - Identifying the frequently failing problem with the prod jobs and reporting and handling the issue as part error handling and correction task.    Computer Proficiency Platforms: Win 9x, NT, XP, Vista (x64 & x86), Linux. Languages: SQL, PL/SQL, Unix, SAP Systems; PMO; IBM Filenet Applications: MS-Office Database: MS-Access, working knowledge of SQL Server.  EDUCATION  Certificate in MSC CHEMISTRY  Acharya Nagarjuna University  MBA  Acharya Nagarjuna University -  Pune, Maharashtra  Secondary School of Education\",\n",
       " {'entities': [(7858, 7886, 'College Name'),\n",
       "   (7853, 7856, 'Degree'),\n",
       "   (7823, 7851, 'College Name'),\n",
       "   (7793, 7821, 'Degree'),\n",
       "   (428, 455, 'Companies worked at'),\n",
       "   (349, 379, 'Designation'),\n",
       "   (73, 118, 'Email Address'),\n",
       "   (15, 47, 'Designation'),\n",
       "   (0, 14, 'Name')]})"
      ]
     },
     "execution_count": 73,
     "metadata": {},
     "output_type": "execute_result"
    }
   ],
   "source": [
    "train_data[0]"
   ]
  },
  {
   "cell_type": "code",
   "execution_count": null,
   "id": "46bc90b8",
   "metadata": {},
   "outputs": [],
   "source": []
  },
  {
   "cell_type": "code",
   "execution_count": 74,
   "id": "16e9316b",
   "metadata": {},
   "outputs": [],
   "source": [
    "# to convert text into pdf "
   ]
  },
  {
   "cell_type": "code",
   "execution_count": 75,
   "id": "0b2104fa",
   "metadata": {},
   "outputs": [],
   "source": [
    "#!pip install PyMuPDF"
   ]
  },
  {
   "cell_type": "code",
   "execution_count": 86,
   "id": "818cfd75",
   "metadata": {},
   "outputs": [
    {
     "name": "stdout",
     "output_type": "stream",
     "text": [
      "      Page | 1     Name: M. Prabakaran  Title: UI Developer    PROFESSIONAL SUMMARY    ● 2.4+ years of Professional IT experience as a software developer having knowledge on different UI based  Application.  ● Hands on experience in HTML, CSS, JS, ReactJS.    ● Hands on experience in handling UI interaction, Design methodology.  ● Handling In-App purchase, uploading and maintaining apps in play store.  ● Hands on experience with customization over base-product depends on client requirement.   ● Cohesive team worker, having strong analytical, problem solving and interpersonal skills.    EDUCATION    ●  Completed on 2017 Bachelor of Technology (ECE), PRIST University, Tamil Nadu.  ●  Completed on 2012 Higher Secondary, Mount Park Hr Sec School, Thiyagadurgam, Tamil Nadu.  ●  Completed on 2010 SSLC, Krishnasamy Hr Sec School, Cuddalore, Tamil Nadu.    SKILLS    Operating System  Windows, Unix,Mac  Programming Languages  HTML, CSS, JS, React  Mobile App Development  Windows and Android Apps  Designing  Constatinant layout ,Motion layout  Architectural Pattern  MVC  IDE  Android Studio  Services  AWS bucket s3 service, Bitbucket     PROJECT DETAILS    Project 1  Boomi is the name of the our project which is e-commerce online store. We’d developed and maintains by react  code.  Role  Front End  Developer  Project  E-commerce  Technology  Android  Role Played  ● Developing applications using Technologies like React and HTML.  ● Involved in Requirement Gathering.  ● Resolving client given queries.  ● Communicating with the team and adding features.  ● Performed Restful API services using volley.              Page | 2     Project 2  Golden Gopuram – This’s the live project it is pooja based on products seems it going on development also  available on source  Role  Front End Developer  Project  Golden Gopuram  Technology  Android  Role Played  ● Developing applications using Technologies like Java and XML.  ● Involved in Requirement Gathering.  ● Resolving client given queries.  ● Communicating with the team and adding features.  ● Performed Restful API services using volley.  ● Implementing design patterns.      Project 3  ToDo App – This’s the myself created for my practice seems it going on development also available on source  Role  Front End Developer  Project  ToDo App  Technology  Android  Role Played  ● Developing applications using Technologies like Java and XML.  ● Involved in Requirement Gathering.  ● Resolving client given queries.  ● Communicating with the team and adding features.  ● Performed Restful API services using volley.  ● Implementing design patterns.      Basic Details:    DOB:    23/01/1995  PAN:    CCRPP0144B  Father Name:  Murugan,  Residency:  Cuddalore, Tamilnadu.                    Date:                      Place: Cuddalore                Prabakaran M  \n"
     ]
    }
   ],
   "source": [
    "import sys, fitz\n",
    "fname = 'Reactjs Developer_Prabakaran_Musquare Technologies.pdf'\n",
    "doc = fitz.open(fname)\n",
    "text = \"\"\n",
    "for Page in doc:\n",
    "    text = text + str(Page.get_text())\n",
    "    \n",
    "tx = \" \".join(text.split('\\n'))#to remove new line\n",
    "print(tx)"
   ]
  },
  {
   "cell_type": "code",
   "execution_count": 87,
   "id": "2ab2fe8f",
   "metadata": {},
   "outputs": [
    {
     "name": "stdout",
     "output_type": "stream",
     "text": [
      "SKILLS                         -  Page | 1     Name: M. Prabakaran\n",
      "DESIGNATION                    -  software developer\n",
      "DEGREE                         -  ●\n",
      "COLLEGE NAME                   -  Completed on 2017 Bachelor of Technology (ECE), PRIST University, Tamil Nadu.\n",
      "SKILLS                         -  Operating System  Windows, Unix,Mac  Programming Languages\n",
      "DESIGNATION                    -  Developer\n",
      "COMPANIES WORKED AT            -  Project\n",
      "COMPANIES WORKED AT            -  Front End\n",
      "COMPANIES WORKED AT            -  Project\n",
      "COMPANIES WORKED AT            -  Front End\n",
      "COMPANIES WORKED AT            -  Project\n",
      "COMPANIES WORKED AT            -  ToDo App\n",
      "GRADUATION YEAR                -  23/01/1995\n"
     ]
    }
   ],
   "source": [
    "doc = nlp_resume_model(tx)\n",
    "for ent in doc.ents:\n",
    "    print(f'{ent.label_.upper():{30}} -  {ent.text}')"
   ]
  },
  {
   "cell_type": "code",
   "execution_count": null,
   "id": "140d02ba",
   "metadata": {},
   "outputs": [],
   "source": []
  }
 ],
 "metadata": {
  "kernelspec": {
   "display_name": "Python 3 (ipykernel)",
   "language": "python",
   "name": "python3"
  },
  "language_info": {
   "codemirror_mode": {
    "name": "ipython",
    "version": 3
   },
   "file_extension": ".py",
   "mimetype": "text/x-python",
   "name": "python",
   "nbconvert_exporter": "python",
   "pygments_lexer": "ipython3",
   "version": "3.9.7"
  }
 },
 "nbformat": 4,
 "nbformat_minor": 5
}
